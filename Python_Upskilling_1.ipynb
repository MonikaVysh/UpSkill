{
 "cells": [
  {
   "cell_type": "code",
   "execution_count": 2,
   "id": "25287002-fc9e-40ec-9214-ce06bcbe042d",
   "metadata": {},
   "outputs": [
    {
     "name": "stdout",
     "output_type": "stream",
     "text": [
      "Enter a natural number\n"
     ]
    },
    {
     "name": "stdin",
     "output_type": "stream",
     "text": [
      " 2\n"
     ]
    },
    {
     "name": "stdout",
     "output_type": "stream",
     "text": [
      "[0, 1, 1, 2]\n"
     ]
    }
   ],
   "source": [
    "\"\"\" Write a program that generates the Fibonacci sequence up to a given number 'n'. The Fibonacci sequence is a series of numbers in which each number is the sum of the two preceding ones. For example, if the user enters 10, the program should print: 0, 1, 1, 2, 3, 5, 8. \"\"\"\n",
    "\n",
    "def fibonacci(n):\n",
    "    a=0\n",
    "    b=1\n",
    "    list=[0]\n",
    "    if n>=1:\n",
    "        list.append(a+b)\n",
    "    while True:\n",
    "        i=a+b\n",
    "        a=b\n",
    "        b=i\n",
    "        if i<=n:\n",
    "            list.append(i)\n",
    "        else:\n",
    "            break\n",
    "    print(list)\n",
    "\n",
    "print (\"Enter a natural number\")\n",
    "try:\n",
    "    n=int(input())\n",
    "   \n",
    "except:\n",
    "    print(\"Input not a natural number!!\")\n",
    "\n",
    "if n<1:\n",
    "    print(\"Input not a natural number!!\")\n",
    "else:\n",
    "    fibonacci(n)"
   ]
  },
  {
   "cell_type": "code",
   "execution_count": 17,
   "id": "5632b379-292a-4a7b-be67-768032b1f35b",
   "metadata": {},
   "outputs": [
    {
     "name": "stdout",
     "output_type": "stream",
     "text": [
      "Enter a natural number\n"
     ]
    },
    {
     "name": "stdin",
     "output_type": "stream",
     "text": [
      " 30\n"
     ]
    },
    {
     "name": "stdout",
     "output_type": "stream",
     "text": [
      "[2, 3, 5, 7, 11, 13, 17, 19, 23, 29]\n"
     ]
    }
   ],
   "source": [
    "\"\"\"Write a program that takes a number 'n' as input and prints all prime numbers up to 'n'. A prime number is a number greater than 1 that is only divisible by 1 and itself. Use a while loop and the modulus operator (%) to check for divisibility.\"\"\"\n",
    "\n",
    "def isprime(n):\n",
    "    if n<3:\n",
    "        print (\"There are no prime numbers below {0}\".format(n))\n",
    "    else:\n",
    "        list=[2]\n",
    "        for i in range(3,n+1,1):\n",
    "            max=int(math.sqrt(i))\n",
    "            flag=0\n",
    "            if max==1:\n",
    "                list.append(i)\n",
    "                continue\n",
    "            for j in range(2,max+1,1):\n",
    "                if i%j==0:\n",
    "                    flag=1\n",
    "                    break\n",
    "            if flag!=1:\n",
    "                list.append(i)\n",
    "        if len(list)!=0:\n",
    "            print(list)\n",
    "        \n",
    "\n",
    "print (\"Enter a natural number\")\n",
    "try:\n",
    "    n=int(input())\n",
    "   \n",
    "except:\n",
    "    print(\"Input not a natural number!!\")\n",
    "\n",
    "if n<1:\n",
    "    print(\"Input not a natural number!!\")\n",
    "else:\n",
    "    import math\n",
    "    isprime(n)\n",
    "\n",
    "            "
   ]
  },
  {
   "cell_type": "code",
   "execution_count": 5,
   "id": "4b2f4cc7-ab88-47b2-939e-ae7e5172dea8",
   "metadata": {},
   "outputs": [
    {
     "name": "stdin",
     "output_type": "stream",
     "text": [
      "Please enter a word, phrase, number, or a sequence of characters: 1234\n"
     ]
    }
   ],
   "source": [
    "\"\"\"Write a Python function that checks whether a given string is a palindrome or not. A palindrome is a word, phrase, number, or other sequence of characters that reads the same forward and backward (ignoring spaces, punctuation, and capitalization). \"\"\"\n",
    "\n",
    "def ispallindrome(userinput):\n",
    "    length=len(userinput)\n",
    "    print(length)\n",
    "    inputreversed=[]\n",
    "    for i in range(length-1,-1,-1):\n",
    "        inputreversed.append(userinput[i])\n",
    "        print(inputreversed)\n",
    "\n",
    "userinput=list(input(\"Please enter a word, phrase, number, or a sequence of characters:\"))"
   ]
  },
  {
   "cell_type": "code",
   "execution_count": 48,
   "id": "12f30dbf-5071-40f4-af46-1cc000fd7013",
   "metadata": {},
   "outputs": [
    {
     "ename": "AttributeError",
     "evalue": "'_io.TextIOWrapper' object has no attribute 'split'",
     "output_type": "error",
     "traceback": [
      "\u001b[1;31m---------------------------------------------------------------------------\u001b[0m",
      "\u001b[1;31mAttributeError\u001b[0m                            Traceback (most recent call last)",
      "Cell \u001b[1;32mIn[48], line 10\u001b[0m\n\u001b[0;32m      7\u001b[0m     \u001b[38;5;28mprint\u001b[39m(\u001b[38;5;28mlen\u001b[39m(\u001b[38;5;28mlist\u001b[39m))\n\u001b[0;32m      9\u001b[0m file\u001b[38;5;241m=\u001b[39m\u001b[38;5;28mopen\u001b[39m(\u001b[38;5;124mr\u001b[39m\u001b[38;5;124m\"\u001b[39m\u001b[38;5;124mC:\u001b[39m\u001b[38;5;124m\\\u001b[39m\u001b[38;5;124mUsers\u001b[39m\u001b[38;5;124m\\\u001b[39m\u001b[38;5;124mMonika_Illuri\u001b[39m\u001b[38;5;124m\\\u001b[39m\u001b[38;5;124mOneDrive - Dell Technologies\u001b[39m\u001b[38;5;124m\\\u001b[39m\u001b[38;5;124mDesktop\u001b[39m\u001b[38;5;124m\\\u001b[39m\u001b[38;5;124minput.txt\u001b[39m\u001b[38;5;124m\"\u001b[39m,\u001b[38;5;124m\"\u001b[39m\u001b[38;5;124mr\u001b[39m\u001b[38;5;124m\"\u001b[39m)\n\u001b[1;32m---> 10\u001b[0m \u001b[43mNoOfLines\u001b[49m\u001b[43m(\u001b[49m\u001b[43mfile\u001b[49m\u001b[43m)\u001b[49m\n",
      "Cell \u001b[1;32mIn[48], line 5\u001b[0m, in \u001b[0;36mNoOfLines\u001b[1;34m(file)\u001b[0m\n\u001b[0;32m      3\u001b[0m \u001b[38;5;28;01mdef\u001b[39;00m \u001b[38;5;21mNoOfLines\u001b[39m(file):\n\u001b[0;32m      4\u001b[0m     \u001b[38;5;28mlist\u001b[39m\u001b[38;5;241m=\u001b[39m[]\n\u001b[1;32m----> 5\u001b[0m     \u001b[38;5;28;01mfor\u001b[39;00m lines \u001b[38;5;129;01min\u001b[39;00m \u001b[43mfile\u001b[49m\u001b[38;5;241;43m.\u001b[39;49m\u001b[43msplit\u001b[49m():\n\u001b[0;32m      6\u001b[0m         \u001b[38;5;28mlist\u001b[39m\u001b[38;5;241m.\u001b[39mappend()\n\u001b[0;32m      7\u001b[0m     \u001b[38;5;28mprint\u001b[39m(\u001b[38;5;28mlen\u001b[39m(\u001b[38;5;28mlist\u001b[39m))\n",
      "\u001b[1;31mAttributeError\u001b[0m: '_io.TextIOWrapper' object has no attribute 'split'"
     ]
    }
   ],
   "source": [
    "\"\"\"Write a Python program that reads a text file named \"input.txt\" and counts the number of lines in it.\"\"\"\n",
    "\n",
    "def NoOfLines(file):\n",
    "    list=[]\n",
    "    for lines in file.split():\n",
    "        list.append()\n",
    "    print(len(list))\n",
    "\n",
    "file=open(r\"C:\\Users\\Monika_Illuri\\OneDrive - Dell Technologies\\Desktop\\input.txt\",\"r\")\n",
    "NoOfLines(file)"
   ]
  },
  {
   "cell_type": "code",
   "execution_count": 49,
   "id": "aa154249-9df0-41f9-8756-0e3fd10ea207",
   "metadata": {},
   "outputs": [
    {
     "ename": "TypeError",
     "evalue": "'str' object is not callable",
     "output_type": "error",
     "traceback": [
      "\u001b[1;31m---------------------------------------------------------------------------\u001b[0m",
      "\u001b[1;31mTypeError\u001b[0m                                 Traceback (most recent call last)",
      "Cell \u001b[1;32mIn[49], line 3\u001b[0m\n\u001b[0;32m      1\u001b[0m \u001b[38;5;124;03m\"\"\"Write a Python function that checks whether two given strings are anagrams of each other. Anagrams are words or phrases that use the same characters but rearrange them into different orders. \"\"\"\u001b[39;00m\n\u001b[1;32m----> 3\u001b[0m string1\u001b[38;5;241m=\u001b[39m\u001b[38;5;28;43minput\u001b[39;49m\u001b[43m(\u001b[49m\u001b[38;5;124;43m\"\u001b[39;49m\u001b[38;5;124;43mEnter string1:\u001b[39;49m\u001b[38;5;124;43m\"\u001b[39;49m\u001b[43m)\u001b[49m\n",
      "\u001b[1;31mTypeError\u001b[0m: 'str' object is not callable"
     ]
    }
   ],
   "source": [
    "\"\"\"Write a Python function that checks whether two given strings are anagrams of each other. Anagrams are words or phrases that use the same characters but rearrange them into different orders. \"\"\"\n",
    "\n",
    "string1=input(\"Enter string1:\")"
   ]
  },
  {
   "cell_type": "code",
   "execution_count": 41,
   "id": "05c6c211-f8fe-4cf8-b5b4-c58e7eec4c0d",
   "metadata": {},
   "outputs": [
    {
     "name": "stdout",
     "output_type": "stream",
     "text": [
      "[1, 2, 'Fizz', 4, 'Buzz', 'Fizz', 7, 8, 'Fizz', 'Buzz', 11, 'Fizz', 13, 14, 'FizzBuzz', 16, 17, 'Fizz', 19, 'Buzz', 'Fizz', 22, 23, 'Fizz', 'Buzz', 26, 'Fizz', 28, 29, 'FizzBuzz', 31, 32, 'Fizz', 34, 'Buzz', 'Fizz', 37, 38, 'Fizz', 'Buzz', 41, 'Fizz', 43, 44, 'FizzBuzz', 46, 47, 'Fizz', 49, 'Buzz', 'Fizz', 52, 53, 'Fizz', 'Buzz', 56, 'Fizz', 58, 59, 'FizzBuzz', 61, 62, 'Fizz', 64, 'Buzz', 'Fizz', 67, 68, 'Fizz', 'Buzz', 71, 'Fizz', 73, 74, 'FizzBuzz', 76, 77, 'Fizz', 79, 'Buzz', 'Fizz', 82, 83, 'Fizz', 'Buzz', 86, 'Fizz', 88, 89, 'FizzBuzz', 91, 92, 'Fizz', 94, 'Buzz', 'Fizz', 97, 98, 'Fizz', 'Buzz']\n",
      "100\n"
     ]
    }
   ],
   "source": [
    "\"\"\"Write a Python program that prints the numbers from 1 to 100. But for multiples of three, print \"Fizz\" instead of the number, and for the multiples of five, print \"Buzz\". For numbers that are multiples of both three and five, print \"FizzBuzz\". \"\"\"\n",
    "\n",
    "def FizzBuzz():\n",
    "    list=[]\n",
    "    for i in range(1,101,1):\n",
    "        if i%3==0:\n",
    "            if i%5==0:\n",
    "                list.append(\"FizzBuzz\")\n",
    "            else:\n",
    "                list.append(\"Fizz\")\n",
    "        elif i%5==0:\n",
    "            list.append(\"Buzz\")\n",
    "        else:\n",
    "            list.append(i)\n",
    "    print(list)\n",
    "\n",
    "FizzBuzz()\n",
    "        "
   ]
  }
 ],
 "metadata": {
  "kernelspec": {
   "display_name": "Python 3 (ipykernel)",
   "language": "python",
   "name": "python3"
  },
  "language_info": {
   "codemirror_mode": {
    "name": "ipython",
    "version": 3
   },
   "file_extension": ".py",
   "mimetype": "text/x-python",
   "name": "python",
   "nbconvert_exporter": "python",
   "pygments_lexer": "ipython3",
   "version": "3.10.5"
  }
 },
 "nbformat": 4,
 "nbformat_minor": 5
}
